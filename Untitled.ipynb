{
 "cells": [
  {
   "cell_type": "code",
   "execution_count": 19,
   "id": "31a7bbc3",
   "metadata": {},
   "outputs": [],
   "source": [
    "#Import dependencies\n",
    "import pandas as pd\n",
    "from sklearn.model_selection import train_test_split\n",
    "from sklearn.preprocessing import StandardScaler, MinMaxScaler, LabelEncoder\n",
    "import numpy as np"
   ]
  },
  {
   "cell_type": "code",
   "execution_count": 20,
   "id": "30ced86c",
   "metadata": {},
   "outputs": [],
   "source": [
    "train_df = pd.read_csv('Resources/2019loans.csv')\n",
    "test_df = pd.read_csv('Resources/2020Q1loans.csv')"
   ]
  },
  {
   "cell_type": "code",
   "execution_count": 21,
   "id": "46232a00",
   "metadata": {},
   "outputs": [],
   "source": [
    "#drop rows with missing data in Training dataset\n",
    "train_df = train_df.dropna()\n",
    "train_df = train_df.dropna(axis ='columns')\n",
    "train_df = train_df.drop(columns=['Unnamed: 0'])\n"
   ]
  },
  {
   "cell_type": "code",
   "execution_count": 22,
   "id": "58e64507",
   "metadata": {},
   "outputs": [],
   "source": [
    "#drop rows with missing data in Testing dataset\n",
    "test_df = test_df.dropna()\n",
    "test_df = test_df.dropna(axis ='columns')\n",
    "test_df = test_df.drop(columns=['Unnamed: 0'])"
   ]
  },
  {
   "cell_type": "markdown",
   "id": "82fedb1c",
   "metadata": {},
   "source": [
    "# Preprocessing: Convert categorical data to numeric"
   ]
  },
  {
   "cell_type": "code",
   "execution_count": 5,
   "id": "ed3f1651",
   "metadata": {},
   "outputs": [],
   "source": [
    "# Separate loan_status feature for training data\n",
    "X_train = train_df.drop('loan_status',axis=1)\n",
    "y_train = train_df['loan_status']"
   ]
  },
  {
   "cell_type": "code",
   "execution_count": 23,
   "id": "127fa365",
   "metadata": {},
   "outputs": [],
   "source": [
    "# Separate loan_status feature for testing data\n",
    "X_test = test_df.drop('loan_status',axis=1)\n",
    "y_test = test_df['loan_status']"
   ]
  },
  {
   "cell_type": "code",
   "execution_count": 24,
   "id": "9a0f2eeb",
   "metadata": {},
   "outputs": [
    {
     "name": "stdout",
     "output_type": "stream",
     "text": [
      "Train: (12180, 93), Test: (4702, 92)\n"
     ]
    }
   ],
   "source": [
    "# One-hot encoding dataframes\n",
    "X_train_dummies = pd.get_dummies(X_train)\n",
    "X_test_dummies = pd.get_dummies(X_test)\n",
    "print(f\"Train: {X_train_dummies.shape}, Test: {X_test_dummies.shape}\")"
   ]
  },
  {
   "cell_type": "code",
   "execution_count": 26,
   "id": "d7054220",
   "metadata": {},
   "outputs": [],
   "source": [
    "# Convert output labels to 0 and 1\n",
    "y_train_label = LabelEncoder().fit_transform(train_df['loan_status'])\n",
    "\n",
    "y_test_label = LabelEncoder().fit_transform(test_df['loan_status'])"
   ]
  },
  {
   "cell_type": "code",
   "execution_count": 27,
   "id": "1d9601dc",
   "metadata": {},
   "outputs": [],
   "source": [
    "# Add missing dummy variables to testing set\n",
    "for col in X_train_dummies.columns:\n",
    "    if col not in X_test_dummies.columns:\n",
    "        X_test_dummies[col]=0"
   ]
  },
  {
   "cell_type": "code",
   "execution_count": 10,
   "id": "e8437000",
   "metadata": {},
   "outputs": [
    {
     "name": "stdout",
     "output_type": "stream",
     "text": [
      "Train: (12180, 93), Test: (4702, 93)\n"
     ]
    }
   ],
   "source": [
    "print(f\"Train: {X_train_dummies.shape}, Test: {X_test_dummies.shape}\")"
   ]
  },
  {
   "cell_type": "markdown",
   "id": "4422cb9c",
   "metadata": {},
   "source": [
    "# Prediction on Unscaled Models"
   ]
  },
  {
   "cell_type": "markdown",
   "id": "fb59c27f",
   "metadata": {},
   "source": [
    "###### In my opinion, the RandomForest Classifier will be more accurate than LogisticRegression model. \n",
    "\n",
    "    The RandomForest model have a classified output, which is 1 or 0.The RandomClassifier classifies each data into either 1 or 0 and it undergoes multiple iterations. Since the features of training data is within the range of test data, they are behaved in a simlar fashion which results in more accurate prediction.It would have failed to classify if the test data is outside the taining data.\n",
    "    Whereas Logistic regression model uses a classification algorithm and provide the probability of a test data to behave as the trained dataset.It would have been more accurate if the test data is outside the range of training data."
   ]
  },
  {
   "cell_type": "markdown",
   "id": "50e73b9e",
   "metadata": {},
   "source": [
    "# Fit a LogisticRegression model and RandomForestClassifier model"
   ]
  },
  {
   "cell_type": "markdown",
   "id": "90849b90",
   "metadata": {},
   "source": [
    "### LogisticRegression model"
   ]
  },
  {
   "cell_type": "code",
   "execution_count": 28,
   "id": "8ebf7d2c",
   "metadata": {},
   "outputs": [
    {
     "name": "stderr",
     "output_type": "stream",
     "text": [
      "C:\\Users\\George\\anaconda3\\envs\\PythonData\\lib\\site-packages\\sklearn\\linear_model\\_logistic.py:765: ConvergenceWarning: lbfgs failed to converge (status=1):\n",
      "STOP: TOTAL NO. of ITERATIONS REACHED LIMIT.\n",
      "\n",
      "Increase the number of iterations (max_iter) or scale the data as shown in:\n",
      "    https://scikit-learn.org/stable/modules/preprocessing.html\n",
      "Please also refer to the documentation for alternative solver options:\n",
      "    https://scikit-learn.org/stable/modules/linear_model.html#logistic-regression\n",
      "  extra_warning_msg=_LOGISTIC_SOLVER_CONVERGENCE_MSG)\n"
     ]
    },
    {
     "data": {
      "text/plain": [
       "LogisticRegression(max_iter=1000)"
      ]
     },
     "execution_count": 28,
     "metadata": {},
     "output_type": "execute_result"
    }
   ],
   "source": [
    "from sklearn.linear_model import LogisticRegression\n",
    "classifier = LogisticRegression(solver='lbfgs',max_iter=1000)\n",
    "classifier.fit(X_train_dummies, y_train)"
   ]
  },
  {
   "cell_type": "code",
   "execution_count": 29,
   "id": "fd37df0c",
   "metadata": {},
   "outputs": [
    {
     "name": "stdout",
     "output_type": "stream",
     "text": [
      "Training Data Score: 0.6852216748768473\n",
      "Testing Data Score: 0.5561463207145896\n"
     ]
    }
   ],
   "source": [
    "print(f\"Training Data Score: {classifier.score(X_train_dummies, y_train)}\")\n",
    "print(f\"Testing Data Score: {classifier.score(X_test_dummies, y_test)}\")"
   ]
  },
  {
   "cell_type": "markdown",
   "id": "05353adf",
   "metadata": {},
   "source": [
    "### RandomForestClassifier model"
   ]
  },
  {
   "cell_type": "code",
   "execution_count": 30,
   "id": "31098bbd",
   "metadata": {},
   "outputs": [],
   "source": [
    "from sklearn.ensemble import RandomForestClassifier\n",
    "from sklearn.metrics import confusion_matrix, accuracy_score, classification_report"
   ]
  },
  {
   "cell_type": "code",
   "execution_count": 31,
   "id": "a1244613",
   "metadata": {},
   "outputs": [
    {
     "name": "stdout",
     "output_type": "stream",
     "text": [
      "Training Score: 1.0\n",
      "Testing Score: 0.6550404083368779\n"
     ]
    }
   ],
   "source": [
    "# Fit a model, and then print a classification report\n",
    "clf_forest = RandomForestClassifier(random_state=42).fit(X_train_dummies, y_train)\n",
    "y_pred = clf_forest.predict(X_test_dummies)\n",
    "\n",
    "print(f'Training Score: {clf_forest.score(X_train_dummies, y_train)}')\n",
    "print(f'Testing Score: {clf_forest.score(X_test_dummies, y_test)}')"
   ]
  },
  {
   "cell_type": "markdown",
   "id": "66789086",
   "metadata": {},
   "source": [
    "# Compare Predicted Behavior with Actual Results on Unscaled Data"
   ]
  },
  {
   "cell_type": "markdown",
   "id": "5ee2095e",
   "metadata": {},
   "source": [
    "##### As expected, the RandomForest Classifier performed better than the Logistic Regression model with a testing score of 0.65\n",
    "###### LogisticRegression Unscaled : \n",
    "    Training Data Score: 0.6852216748768473\n",
    "    Testing Data Score: 0.5561463207145896\n",
    "###### RandomForestClassifier Unscaled : \n",
    "    Training Score: 1.0\n",
    "    Testing Score: 0.6550404083368779        "
   ]
  },
  {
   "cell_type": "markdown",
   "id": "c5f22062",
   "metadata": {},
   "source": [
    "# Revisit the Preprocessing: Scale the data"
   ]
  },
  {
   "cell_type": "code",
   "execution_count": 32,
   "id": "71699802",
   "metadata": {},
   "outputs": [],
   "source": [
    "# Scaling the X data by using StandardScaler()\n",
    "scaler = StandardScaler().fit(X_train_dummies)\n",
    "X_train_scaled = scaler.transform(X_train_dummies)"
   ]
  },
  {
   "cell_type": "code",
   "execution_count": 33,
   "id": "1925c480",
   "metadata": {},
   "outputs": [],
   "source": [
    "# Transforming the test dataset based on the fit from the training dataset\n",
    "X_test_scaled = scaler.transform(X_test_dummies)"
   ]
  },
  {
   "cell_type": "markdown",
   "id": "a47cd006",
   "metadata": {},
   "source": [
    "# Prediction on Scaled Models"
   ]
  },
  {
   "cell_type": "markdown",
   "id": "a2bb9ac6",
   "metadata": {},
   "source": [
    "###### As per my understanding, the accuracy of the LogisticRegression changes with scaling. \n",
    "    Linear Regression gets more impacted with feature scaling as they depend on the range on data-points.\n",
    "    Tree-based algorithms like RandomForest Classifiers are independent of scaling."
   ]
  },
  {
   "cell_type": "markdown",
   "id": "23199e43",
   "metadata": {},
   "source": [
    "# Re-fitting the LogisticRegression model on the scaled data"
   ]
  },
  {
   "cell_type": "code",
   "execution_count": 34,
   "id": "f2f622e8",
   "metadata": {},
   "outputs": [
    {
     "name": "stdout",
     "output_type": "stream",
     "text": [
      "Training Data Score: 0.712807881773399\n",
      "Testing Data Score: 0.7201190982560612\n"
     ]
    }
   ],
   "source": [
    "# classifier = LogisticRegression(solver='lbfgs',max_iter=1000)\n",
    "classifier.fit(X_train_scaled, y_train)\n",
    "\n",
    "print(f\"Training Data Score: {classifier.score(X_train_scaled, y_train)}\")\n",
    "print(f\"Testing Data Score: {classifier.score(X_test_scaled, y_test)}\")"
   ]
  },
  {
   "cell_type": "markdown",
   "id": "f29fbe34",
   "metadata": {},
   "source": [
    "# Re-fitting the RandomForestClassifier model on the scaled data"
   ]
  },
  {
   "cell_type": "code",
   "execution_count": 35,
   "id": "f61d9038",
   "metadata": {},
   "outputs": [
    {
     "name": "stdout",
     "output_type": "stream",
     "text": [
      "Training Score: 1.0\n",
      "Testing Score: 0.6688643130582731\n"
     ]
    }
   ],
   "source": [
    "# Fit a model, and then print a classification report\n",
    "clf_forest = RandomForestClassifier(random_state=1).fit(X_train_scaled, y_train)\n",
    "y_pred = clf_forest.predict(X_test_scaled)\n",
    "\n",
    "print(f'Training Score: {clf_forest.score(X_train_scaled, y_train)}')\n",
    "print(f'Testing Score: {clf_forest.score(X_test_scaled, y_test)}')"
   ]
  },
  {
   "cell_type": "markdown",
   "id": "925fef8a",
   "metadata": {},
   "source": [
    "# Compare Predicted Behavior with Actual Results on Scaled Data"
   ]
  },
  {
   "cell_type": "markdown",
   "id": "a07f07a2",
   "metadata": {},
   "source": [
    "##### As expected, the Logistic Regression performed better with scaled data whereas the RandomClassifer didn't change with scaling. The score of logistic regression changed drastically from 0.55 to 0.72, which implies that the models can fit better with scaled data.\n",
    "\n",
    "###### LogisticRegression Unscaled : \n",
    "    Training Data Score: 0.6852216748768473\n",
    "    Testing Data Score: 0.5561463207145896\n",
    "###### LogisticRegression Scaled : \n",
    "    Training Data Score: 0.712807881773399\n",
    "    Testing Data Score: 0.7201190982560612\n",
    "\n",
    "\n",
    "###### RandomForestClassifier Unscaled : \n",
    "    Training Score: 1.0\n",
    "    Testing Score: 0.6671629094002552        \n",
    "###### RandomForestClassifier Scaled : \n",
    "    Training Score: 1.0\n",
    "    Testing Score: 0.6550404083368779"
   ]
  },
  {
   "cell_type": "code",
   "execution_count": null,
   "id": "fdb072b7",
   "metadata": {},
   "outputs": [],
   "source": []
  }
 ],
 "metadata": {
  "kernelspec": {
   "display_name": "Python 3",
   "language": "python",
   "name": "python3"
  },
  "language_info": {
   "codemirror_mode": {
    "name": "ipython",
    "version": 3
   },
   "file_extension": ".py",
   "mimetype": "text/x-python",
   "name": "python",
   "nbconvert_exporter": "python",
   "pygments_lexer": "ipython3",
   "version": "3.7.11"
  }
 },
 "nbformat": 4,
 "nbformat_minor": 5
}
