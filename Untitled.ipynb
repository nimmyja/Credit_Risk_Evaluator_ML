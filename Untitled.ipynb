{
 "cells": [
  {
   "cell_type": "code",
   "execution_count": 12,
   "id": "31a7bbc3",
   "metadata": {},
   "outputs": [],
   "source": [
    "import pandas as pd\n",
    "from sklearn.model_selection import train_test_split\n",
    "from sklearn.preprocessing import StandardScaler, MinMaxScaler, LabelEncoder\n",
    "import numpy as np"
   ]
  },
  {
   "cell_type": "code",
   "execution_count": 9,
   "id": "30ced86c",
   "metadata": {},
   "outputs": [],
   "source": [
    "train_df = pd.read_csv('Resources/2019loans.csv')\n",
    "test_df = pd.read_csv('Resources/2020Q1loans.csv')\n",
    "# train_df"
   ]
  },
  {
   "cell_type": "code",
   "execution_count": 4,
   "id": "024cab0b",
   "metadata": {},
   "outputs": [],
   "source": [
    "# train_df['loan_status'].unique() \n",
    "# train_df['home_ownership'].unique() \n",
    "# train_df['pymnt_plan'].unique()\n",
    "# train_df['verification_status'].unique()\n",
    "# train_df['initial_list_status'].unique()\n",
    "# train_df['application_type'].unique()\n",
    "\n",
    "# class_dic = {'Y':1,'N':0}\n",
    "# loan_stat_dict = {'low_risk':0, 'high_risk':1}\n",
    "# owner_dict = {'OWN':0,'MORTGAGE':1, 'RENT':2, 'ANY':3}\n",
    "# verify_dict = {'Not Verified':0, 'Source Verified':1, 'Verified':1}\n",
    "# appl_type_dict = {'Individual':0, 'Joint App':1}\n",
    "# initial_list_dict = {'w':0, 'f':1}"
   ]
  },
  {
   "cell_type": "markdown",
   "id": "82fedb1c",
   "metadata": {},
   "source": [
    "# Preprocessing: Convert categorical data to numeric"
   ]
  },
  {
   "cell_type": "code",
   "execution_count": 8,
   "id": "ed3f1651",
   "metadata": {},
   "outputs": [],
   "source": [
    "final_train_df = train_df.drop(['Unnamed: 0','index','pymnt_plan'],axis ='columns')\n",
    "# final_train_df\n",
    "file_path = 'Resources/cleaned_2019_credit_data.csv'\n",
    "final_train_df.to_csv(file_path, index= False)"
   ]
  },
  {
   "cell_type": "code",
   "execution_count": 23,
   "id": "9fbbccd3",
   "metadata": {},
   "outputs": [],
   "source": [
    "X_train = final_train_df.drop('loan_status',axis=1)\n",
    "X_train_dummies = pd.get_dummies(X_train)\n",
    "# X_train_dummies\n",
    "y_train = LabelEncoder().fit_transform(final_train_df['loan_status'])"
   ]
  },
  {
   "cell_type": "code",
   "execution_count": 31,
   "id": "e46c8dcc",
   "metadata": {},
   "outputs": [],
   "source": [
    "final_test_df = test_df.drop(['Unnamed: 0','index','pymnt_plan'],axis ='columns')\n",
    "# final_train_df\n",
    "file_path = 'Resources/cleaned_2020Q1_credit_data.csv'\n",
    "final_test_df.to_csv(file_path, index= False)"
   ]
  },
  {
   "cell_type": "code",
   "execution_count": 43,
   "id": "88a3efe4",
   "metadata": {},
   "outputs": [],
   "source": [
    "X_test = final_test_df.drop('loan_status',axis=1)\n",
    "X_test_dummies = pd.get_dummies(X_test)\n",
    "y_test = LabelEncoder().fit_transform(final_test_df['loan_status'])\n",
    "# X_test_dummies.columns"
   ]
  },
  {
   "cell_type": "markdown",
   "id": "4422cb9c",
   "metadata": {},
   "source": [
    "# Consider the models"
   ]
  },
  {
   "cell_type": "code",
   "execution_count": 35,
   "id": "8ebf7d2c",
   "metadata": {},
   "outputs": [
    {
     "name": "stderr",
     "output_type": "stream",
     "text": [
      "C:\\Users\\George\\anaconda3\\envs\\PythonData\\lib\\site-packages\\sklearn\\linear_model\\_logistic.py:765: ConvergenceWarning: lbfgs failed to converge (status=1):\n",
      "STOP: TOTAL NO. of ITERATIONS REACHED LIMIT.\n",
      "\n",
      "Increase the number of iterations (max_iter) or scale the data as shown in:\n",
      "    https://scikit-learn.org/stable/modules/preprocessing.html\n",
      "Please also refer to the documentation for alternative solver options:\n",
      "    https://scikit-learn.org/stable/modules/linear_model.html#logistic-regression\n",
      "  extra_warning_msg=_LOGISTIC_SOLVER_CONVERGENCE_MSG)\n"
     ]
    },
    {
     "data": {
      "text/plain": [
       "LogisticRegression(max_iter=200)"
      ]
     },
     "execution_count": 35,
     "metadata": {},
     "output_type": "execute_result"
    }
   ],
   "source": [
    "from sklearn.linear_model import LogisticRegression\n",
    "classifier = LogisticRegression(solver='lbfgs',max_iter=200)\n",
    "classifier.fit(X_train_dummies, y_train)"
   ]
  },
  {
   "cell_type": "code",
   "execution_count": 44,
   "id": "fd37df0c",
   "metadata": {},
   "outputs": [],
   "source": [
    "# print(f\"Training Data Score: {classifier.score(X_train_dummies, y_train)}\")\n",
    "# print(f\"Testing Data Score: {classifier.score(X_test_dummies, y_test)}\")"
   ]
  },
  {
   "cell_type": "code",
   "execution_count": null,
   "id": "ced0da45",
   "metadata": {},
   "outputs": [],
   "source": []
  }
 ],
 "metadata": {
  "kernelspec": {
   "display_name": "Python 3",
   "language": "python",
   "name": "python3"
  },
  "language_info": {
   "codemirror_mode": {
    "name": "ipython",
    "version": 3
   },
   "file_extension": ".py",
   "mimetype": "text/x-python",
   "name": "python",
   "nbconvert_exporter": "python",
   "pygments_lexer": "ipython3",
   "version": "3.7.11"
  }
 },
 "nbformat": 4,
 "nbformat_minor": 5
}
